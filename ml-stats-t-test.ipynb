{
 "cells": [
  {
   "cell_type": "markdown",
   "id": "30317207-b007-4a69-9ca0-e8a5eed73202",
   "metadata": {},
   "source": [
    "# Step1 :Formulate Hypothesis"
   ]
  },
  {
   "cell_type": "code",
   "execution_count": 1,
   "id": "f21856fa-f8ef-4180-9ca8-7eb6787060f8",
   "metadata": {},
   "outputs": [],
   "source": [
    "import numpy as np\n",
    "from scipy import stats\n",
    "\n",
    "# Data\n",
    "before_treatment = np.array([120, 122, 118, 130, 125, 128, 115, 121, 123, 119])\n",
    "after_treatment = np.array([115, 120, 112, 100, 122, 125, 110, 117, 119, 115])"
   ]
  },
  {
   "cell_type": "code",
   "execution_count": 2,
   "id": "910982bb-8b43-4a74-9b63-b8d5c991a321",
   "metadata": {},
   "outputs": [],
   "source": [
    "# Step 1: Null and Alternate Hypotheses\n",
    "\n",
    "null_hypothesis = \"The new drug has no effect on blood pressure.\"\n",
    "alternate_hypothesis = \"The new drug has an effect on blood pressure.\""
   ]
  },
  {
   "cell_type": "markdown",
   "id": "d33e6915-8b04-4f22-8633-5f237d23ddd3",
   "metadata": {},
   "source": [
    "# Step 2: test"
   ]
  },
  {
   "cell_type": "markdown",
   "id": "8c6abbed-8cae-4d7c-802f-962fc246114f",
   "metadata": {},
   "source": [
    "## sample size<30\n",
    "\n",
    "Use a paired T-test when comparing two related groups (e.g., before and\n",
    "after treatment measurements on the same subjects). Use an independent\n",
    "T-test when comparing two independent groups (e.g., measurements from\n",
    "different subjects)."
   ]
  },
  {
   "cell_type": "code",
   "execution_count": 3,
   "id": "416a37d5-b5cd-4ff2-a829-0a077ff000c1",
   "metadata": {},
   "outputs": [
    {
     "data": {
      "text/plain": [
       "-2.5137917447891764"
      ]
     },
     "execution_count": 3,
     "metadata": {},
     "output_type": "execute_result"
    }
   ],
   "source": [
    "\n",
    "# Paired T-test\n",
    "t_statistic, p_value = stats.ttest_rel(after_treatment, before_treatment)\n",
    "t_statistic"
   ]
  },
  {
   "cell_type": "code",
   "execution_count": 4,
   "id": "f8c9d6c1-f7fd-4813-afeb-5e3d1e0b9e57",
   "metadata": {},
   "outputs": [
    {
     "data": {
      "text/plain": [
       "0.033104155388492526"
      ]
     },
     "execution_count": 4,
     "metadata": {},
     "output_type": "execute_result"
    }
   ],
   "source": [
    "#p_vaLue\n",
    "# P stands for probability and measures how Likely that any observed difference between groups is due to chance.\n",
    "\n",
    "# A Lower p-value suggests stronger evidence against the null hypothesis.\n",
    "p_value"
   ]
  },
  {
   "cell_type": "code",
   "execution_count": 5,
   "id": "97632d1e-9156-4f2b-90b6-80059a0673a6",
   "metadata": {},
   "outputs": [],
   "source": [
    "# Decision\n",
    "alpha = 0.05\n",
    "if p_value < alpha:\n",
    "    decision = \"Reject\"\n",
    "else:\n",
    "    decision = \"Fail to reject\" #Accept\n"
   ]
  },
  {
   "cell_type": "code",
   "execution_count": 6,
   "id": "9afc3e7c-fae3-4f5b-be6a-7f7eddeddb87",
   "metadata": {},
   "outputs": [],
   "source": [
    "# Conclusion\n",
    "\n",
    "if decision == \"Reject\":\n",
    "    conclusion = \"There is statistically significant evidence that the average blood pressure before and after treatment has effect.\"\n",
    "else:\n",
    "    conclusion = \"There is insufficient evidence to claim a significant difference in average blood pressure before and after treatent no effect\"\n"
   ]
  },
  {
   "cell_type": "code",
   "execution_count": 7,
   "id": "ae9614f2-07c3-4d18-8ec8-653720c6cf80",
   "metadata": {},
   "outputs": [
    {
     "name": "stdout",
     "output_type": "stream",
     "text": [
      "T-statistic (from scipy): -2.5137917447891764\n",
      "P-value (from scipy): 0.033104155388492526\n",
      "“Decision: Reject the null hypothesis at alpha= 0.05\n",
      "“Conclusion: There is statistically significant evidence that the average blood pressure before and after treatment has effect.\n"
     ]
    }
   ],
   "source": [
    "# Display results\n",
    "\n",
    "print(\"T-statistic (from scipy):\", t_statistic)\n",
    "print(\"P-value (from scipy):\", p_value)\n",
    "print(\"“Decision:\",decision, \"the null hypothesis at alpha=\",alpha)\n",
    "print(\"“Conclusion:\", conclusion)\n"
   ]
  },
  {
   "cell_type": "markdown",
   "id": "ad2569b6",
   "metadata": {},
   "source": [
    "## Q 2 - LEFT TAILED\n",
    "\n",
    "Suppose a company claims that the mean weight of their product is at least 500 grams. You suspect that the actual mean weight is less\n",
    "than 500 grams and you want to test this claim using a one-sided t-test. You collect a sample of 10 products with the following weights\n",
    "(in grams):\n",
    "\n",
    "[495,490,505 , 500, 499 , 498 , 497 , 496 , 502 , 494 ]\n",
    "\n",
    "You want to test this claim at the 0.05 significance level."
   ]
  },
  {
   "cell_type": "code",
   "execution_count": 8,
   "id": "b0df0fb1-6574-4d2d-a9a1-d1c12a0065aa",
   "metadata": {},
   "outputs": [
    {
     "data": {
      "text/plain": [
       "Ttest_1sampResult(statistic=-1.0987082008162468, pvalue=0.15020834437485206)"
      ]
     },
     "execution_count": 8,
     "metadata": {},
     "output_type": "execute_result"
    }
   ],
   "source": [
    "import numpy as np\n",
    "from scipy import stats\n",
    "\n",
    "# Sample data\n",
    "data = [495, 490, 505, 500, 499, 498, 497, 496, 502, 300]\n",
    "\n",
    "# Hypothesized population mean(Required mean)\n",
    "mu_0 = 500\n",
    "\n",
    "#null = no difference\n",
    "null = \" There is no difference between actual mean = calculated mean\"\n",
    "\n",
    "alternative = \"Actaul mean weight is less than 500 grams\" #left\n",
    "#alternative = \"Actaul mean weight is greater than 500 grams\" #right\n",
    "#alternative = \"Actaul mean weight is not eqaul to 500 grams\" #2 tailed\n",
    "\n",
    "t = stats.ttest_1samp(data,500,alternative='less')\n",
    "t"
   ]
  },
  {
   "cell_type": "code",
   "execution_count": 23,
   "id": "4cd574df-5289-4910-8f0f-3f2bf7f9f80e",
   "metadata": {},
   "outputs": [],
   "source": [
    "#As expected, the p-value of 9.150 is not below our threshold of 0.05, so\n",
    "# we cannot reject the null hypothesis.\n"
   ]
  },
  {
   "cell_type": "code",
   "execution_count": 9,
   "id": "a600dc67-0d37-46cc-a42a-8eced1c7f5f2",
   "metadata": {},
   "outputs": [
    {
     "name": "stdout",
     "output_type": "stream",
     "text": [
      "Failed to reject\n"
     ]
    }
   ],
   "source": [
    "p = 0.15020834437485203\n",
    "if p <= 0.05:\n",
    "    print(\"Reject Null\")\n",
    "else:\n",
    "    print(\"Failed to reject\")"
   ]
  },
  {
   "cell_type": "markdown",
   "id": "429d7bf6-494a-4c64-a3ad-f10e76b26b9b",
   "metadata": {},
   "source": [
    "### Scenario 3: (Independent T-test)\n",
    "You want to compare the average scores of two different classes (Class A and Class B) on the same math test to see if one class performed significantly better than the other. \n",
    "Class A scores: 78,85,80,70,90\n",
    "Class B scores: 88,75,82,95,85"
   ]
  },
  {
   "cell_type": "code",
   "execution_count": 10,
   "id": "411965ad-ceae-4f6b-9c0d-6ad1790ce4e5",
   "metadata": {},
   "outputs": [
    {
     "name": "stdout",
     "output_type": "stream",
     "text": [
      "T-statistic: -0.933\n",
      "P-value: 0.378\n"
     ]
    }
   ],
   "source": [
    "from scipy.stats import ttest_ind\n",
    "\n",
    "# Scores of Class A and B\n",
    "class_a = [78, 85, 80, 70, 90]\n",
    "class_b = [88, 75, 82, 95, 85]\n",
    "\n",
    "# H0: Mean(Class A) = Mean(Class B)\n",
    "# H1: Mean(Class A) ≠ Mean(Class B)\n",
    "\n",
    "# Perform independent t-test\n",
    "t_stat, p_value = ttest_ind(class_a, class_b)\n",
    "\n",
    "print(f\"T-statistic: {t_stat:.3f}\")\n",
    "print(f\"P-value: {p_value:.3f}\")\n"
   ]
  },
  {
   "cell_type": "code",
   "execution_count": 11,
   "id": "3e503d62-c785-4ca1-90a4-f271d9bc5e61",
   "metadata": {},
   "outputs": [
    {
     "name": "stdout",
     "output_type": "stream",
     "text": [
      "Fail to reject the null hypothesis: No significant difference between the class means.\n"
     ]
    }
   ],
   "source": [
    "p_value: 0.378\n",
    "alpha = 0.05\n",
    "if p_value < alpha:\n",
    "    print(\"Reject the null hypothesis: There is a significant difference between the class means.\")\n",
    "else:\n",
    "    print(\"Fail to reject the null hypothesis: No significant difference between the class means.\")"
   ]
  },
  {
   "cell_type": "markdown",
   "id": "e7c3986a",
   "metadata": {},
   "source": [
    "## Blood Pressure Before vs After Treatment"
   ]
  },
  {
   "cell_type": "code",
   "execution_count": 12,
   "id": "2c5e9362-d350-4670-9619-f5ea71895353",
   "metadata": {},
   "outputs": [
    {
     "data": {
      "image/png": "[encoded data removed]",
      "text/plain": [
       "<Figure size 576x360 with 1 Axes>"
      ]
     },
     "metadata": {
      "needs_background": "light"
     },
     "output_type": "display_data"
    }
   ],
   "source": [
    "import matplotlib.pyplot as plt\n",
    "\n",
    "# Create the boxplot\n",
    "plt.figure(figsize=(8, 5))\n",
    "plt.boxplot([before_treatment, after_treatment], labels=['Before', 'After'], patch_artist=True,\n",
    "            boxprops=dict(facecolor='lightblue', color='blue'),\n",
    "            medianprops=dict(color='red'),\n",
    "            whiskerprops=dict(color='blue'),\n",
    "            capprops=dict(color='blue'),\n",
    "            flierprops=dict(markerfacecolor='blue', marker='o', markersize=6, linestyle='none'))\n",
    "\n",
    "plt.title(\"Blood Pressure Before vs After Treatment\")\n",
    "plt.ylabel(\"Blood Pressure\")\n",
    "plt.grid(True)\n",
    "plt.show()"
   ]
  },
  {
   "cell_type": "code",
   "execution_count": null,
   "id": "a702a06d",
   "metadata": {},
   "outputs": [],
   "source": []
  }
 ],
 "metadata": {
  "kernelspec": {
   "display_name": "Python 3 (ipykernel)",
   "language": "python",
   "name": "python3"
  },
  "language_info": {
   "codemirror_mode": {
    "name": "ipython",
    "version": 3
   },
   "file_extension": ".py",
   "mimetype": "text/x-python",
   "name": "python",
   "nbconvert_exporter": "python",
   "pygments_lexer": "ipython3",
   "version": "3.9.12"
  }
 },
 "nbformat": 4,
 "nbformat_minor": 5
}
